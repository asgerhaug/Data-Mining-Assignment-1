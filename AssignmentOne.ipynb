{
 "metadata": {
  "language_info": {
   "codemirror_mode": {
    "name": "ipython",
    "version": 3
   },
   "file_extension": ".py",
   "mimetype": "text/x-python",
   "name": "python",
   "nbconvert_exporter": "python",
   "pygments_lexer": "ipython3",
   "version": "3.8.3-final"
  },
  "orig_nbformat": 2,
  "kernelspec": {
   "name": "Python 3.8.3 64-bit ('base': conda)",
   "display_name": "Python 3.8.3 64-bit ('base': conda)",
   "metadata": {
    "interpreter": {
     "hash": "075f514aaa14ce1a0be7d44717802e78bc184a3b04b5db802973f321daafa690"
    }
   }
  }
 },
 "nbformat": 4,
 "nbformat_minor": 2,
 "cells": [
  {
   "cell_type": "code",
   "execution_count": 1,
   "metadata": {},
   "outputs": [],
   "source": [
    "import pandas as pd\n",
    "import numpy as np\n",
    "import seaborn as sns\n",
    "import matplotlib.pyplot as plt\n",
    "#data = pd.read_csv(\"Data.tsv\")\n",
    "\n",
    "df = pd.read_csv('Data.tsv', sep='\\t')\n",
    "df.drop(df.columns[[0, 4]], axis=1, inplace = True)\n"
   ]
  },
  {
   "cell_type": "code",
   "execution_count": 4,
   "metadata": {},
   "outputs": [],
   "source": [
    "#Data cleaning:\n",
    "#Converting wrongly inserted cm to international inches: \n",
    "#column_name = \"Your height (in International inches)\"\n",
    "#boolean_condition =df.iloc[:, 2]>107 (tallest guy ever measured 272cm = 107 inches)\n",
    "#new_value = df.iloc[:, 2]/2.54\n",
    "\n",
    "#Converting wrongly inserted inches with comma to inches: \n",
    "#column_name = \"Your height (in International inches)\"\n",
    "#boolean_condition =df.iloc[:, 2]<10 (i.e 5.6 should mean 56 inches)\n",
    "#new_value = df.iloc[:, 2]*10\n",
    "\n",
    "#df.loc[boolean_condition, column_name] = new_value\n",
    "df.loc[df.iloc[:, 2]>107, [\"Your height (in International inches)\"]] = df.iloc[:, 2]/2.54\n",
    "df.loc[df.iloc[:, 2]<10, [\"Your height (in International inches)\"]] = df.iloc[:, 2]*10"
   ]
  },
  {
   "cell_type": "code",
   "execution_count": null,
   "metadata": {},
   "outputs": [],
   "source": []
  }
 ]
}