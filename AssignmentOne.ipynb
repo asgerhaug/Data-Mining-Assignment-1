{
 "metadata": {
  "language_info": {
   "codemirror_mode": {
    "name": "ipython",
    "version": 3
   },
   "file_extension": ".py",
   "mimetype": "text/x-python",
   "name": "python",
   "nbconvert_exporter": "python",
   "pygments_lexer": "ipython3",
   "version": "3.8.3-final"
  },
  "orig_nbformat": 2,
  "kernelspec": {
   "name": "Python 3.8.3 64-bit ('base': conda)",
   "display_name": "Python 3.8.3 64-bit ('base': conda)",
   "metadata": {
    "interpreter": {
     "hash": "075f514aaa14ce1a0be7d44717802e78bc184a3b04b5db802973f321daafa690"
    }
   }
  }
 },
 "nbformat": 4,
 "nbformat_minor": 2,
 "cells": [
  {
   "cell_type": "code",
   "execution_count": 6,
   "metadata": {},
   "outputs": [],
   "source": [
    "import pandas as pd\n",
    "import numpy as np\n",
    "import seaborn as sns\n",
    "import matplotlib.pyplot as plt\n",
    "#data = pd.read_csv(\"Data.tsv\")\n",
    "\n",
    "df = pd.read_csv('Data.tsv', sep='\\t')\n",
    "df.drop(df.columns[[0, 4]], axis=1, inplace = True)\n"
   ]
  },
  {
   "cell_type": "code",
   "execution_count": 7,
   "metadata": {},
   "outputs": [
    {
     "output_type": "stream",
     "name": "stdout",
     "text": [
      "    Your mean shoe size (In European Continental system)    \\\n0                                                44.0        \n1                                                38.0        \n2                                                44.0        \n3                                                38.0        \n4                                                44.0        \n5                                                38.0        \n6                                                45.0        \n7                                                42.0        \n8                                                37.5        \n9                                                42.5        \n10                                               39.0        \n11                                               44.0        \n12                                               39.0        \n13                                               46.0        \n14                                               44.0        \n15                                               37.0        \n16                                               42.5        \n17                                               45.0        \n18                                               39.0        \n19                                               39.0        \n20                                               44.0        \n21                                               44.0        \n22                                               39.0        \n23                                               43.0        \n24                                               38.5        \n25                                               39.0        \n26                                               38.0        \n27                                               44.0        \n28                                               37.0        \n29                                               45.0        \n30                                               38.0        \n31                                               37.0        \n32                                               38.0        \n33                                               36.0        \n34                                               40.0        \n35                                               43.0        \n36                                               39.0        \n37                                               42.5        \n38                                               43.5        \n39                                               39.0        \n40                                               45.0        \n41                                               41.0        \n42                                               43.0        \n43                                               40.0        \n44                                                9.0        \n45                                               46.0        \n46                                               38.0        \n47                                               40.0        \n48                                               45.0        \n49                                               42.0        \n\n   Which programme are you studying?  Your height (in International inches)  \n0           MSc Software Design, ITU                              75.590000  \n1           MSc Software Design, ITU                              65.748031  \n2           MSc Software Design, ITU                              75.590551  \n3           MSc Software Design, ITU                              66.000000  \n4           MSc Software Design, ITU                              72.440945  \n5           MSc Software Design, ITU                              64.000000  \n6           MSc Software Design, ITU                              72.000000  \n7           MSc Software Design, ITU                              71.650000  \n8           MSc Software Design, ITU                              70.000000  \n9           MSc Software Design, ITU                              70.078740  \n10          MSc Software Design, ITU                               5.600000  \n11          MSc Software Design, ITU                              75.984000  \n12          MSc Software Design, ITU                              65.000000  \n13          MSc Software Design, ITU                              72.000000  \n14          MSc Software Design, ITU                              74.000000  \n15          MSc Software Design, ITU                              63.400000  \n16          MSc Software Design, ITU                              71.300000  \n17         MSc Computer Science, ITU                              73.622047  \n18          MSc Software Design, ITU                              68.503937  \n19          MSc Software Design, ITU                              69.000000  \n20          MSc Software Design, ITU                              73.000000  \n21          MSc Software Design, ITU                               6.100000  \n22          MSc Software Design, ITU                              68.000000  \n23          MSc Software Design, ITU                              73.230000  \n24          MSc Software Design, ITU                              68.000000  \n25          MSc Software Design, ITU                              70.078740  \n26                     MSc elsewhere                              70.070000  \n27          MSc Software Design, ITU                              71.000000  \n28          MSc Software Design, ITU                              65.000000  \n29          MSc Software Design, ITU                              73.000000  \n30          MSc Software Design, ITU                              64.000000  \n31                     MSc elsewhere                              63.780000  \n32          MSc Software Design, ITU                              64.566929  \n33          MSc Software Design, ITU                              63.000000  \n34          MSc Software Design, ITU                              68.000000  \n35          MSc Software Design, ITU                              71.000000  \n36          MSc Software Design, ITU                              67.700000  \n37                     MSc elsewhere                              68.900000  \n38          MSc Software Design, ITU                              71.200000  \n39          MSc Software Design, ITU                              68.000000  \n40          MSc Software Design, ITU                              73.000000  \n41                     MSc elsewhere                              70.500000  \n42                     MSc elsewhere                              68.000000  \n43          MSc Software Design, ITU                              70.800000  \n44          MSc Software Design, ITU                              55.000000  \n45                     MSc elsewhere                              70.900000  \n46          MSc Software Design, ITU                              68.110236  \n47          MSc Software Design, ITU                              72.047244  \n48          MSc Software Design, ITU                              74.800000  \n49          MSc Software Design, ITU                              72.440000  \n"
     ]
    }
   ],
   "source": [
    "#Data cleaning:\n",
    "#Converting wrongly inserted cm to international inches: \n",
    "#column_name = \"Your height (in International inches)\"\n",
    "#boolean_condition =df.iloc[:, 2]>107 (tallest guy ever measured 272cm = 107 inches)\n",
    "#new_value = df.iloc[:, 2]/2.54\n",
    "#df.loc[boolean_condition, column_name] = new_value\n",
    "\n",
    "df.loc[df.iloc[:, 2]>107, [\"Your height (in International inches)\"]] = df.iloc[:, 2]/2.54\n",
    "print(df) "
   ]
  },
  {
   "cell_type": "code",
   "execution_count": null,
   "metadata": {},
   "outputs": [],
   "source": []
  }
 ]
}