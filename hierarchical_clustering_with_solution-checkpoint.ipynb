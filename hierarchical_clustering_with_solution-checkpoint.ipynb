{
 "cells": [
  {
   "cell_type": "code",
   "execution_count": 1,
   "metadata": {
    "pycharm": {
     "is_executing": false,
     "name": "#%%\n"
    }
   },
   "outputs": [],
   "source": [
    "from typing import Tuple, Set, Dict, List\n",
    "\n",
    "import numpy as np\n",
    "from attr import dataclass"
   ]
  },
  {
   "cell_type": "markdown",
   "metadata": {
    "collapsed": true,
    "pycharm": {
     "name": "#%% md\n"
    }
   },
   "source": [
    "# Hierarchical clustering\n",
    "\n",
    "You will implement a simple Hierarchical Agglomerative Clustering (HAC) \n",
    "algorithm and then apply it to cluster pixels in images based on their color.\n",
    "\n",
    "## Introduction\n",
    "\n",
    "Pixels in images are often expressed as a 3-dimensional array that describes \n",
    "the amount of Red, Green, and Blue color in each pixel. The values for each\n",
    "color are usually expressed in the range [0, 255].\n",
    "\n",
    "The following code reads and displays the two images we will work with today.\n",
    "If you hover over the images, you should see the pixel values for each of the \n",
    "three channels."
   ]
  },
  {
   "cell_type": "code",
   "execution_count": 2,
   "metadata": {
    "pycharm": {
     "is_executing": false,
     "name": "#%%\n"
    }
   },
   "outputs": [
    {
     "ename": "FileNotFoundError",
     "evalue": "No such file: '/Users/manuelciosici/Google Drive/ITU/clutering lecture/notebooks/for_sending/instructor_version/320px-Landscape_seen_from_Ellemandsbjerg.jpg'",
     "output_type": "error",
     "traceback": [
      "\u001b[0;31m---------------------------------------------------------------------------\u001b[0m",
      "\u001b[0;31mFileNotFoundError\u001b[0m                         Traceback (most recent call last)",
      "\u001b[0;32m<ipython-input-2-e7b11c631743>\u001b[0m in \u001b[0;36m<module>\u001b[0;34m\u001b[0m\n\u001b[1;32m      7\u001b[0m \u001b[0mfig\u001b[0m\u001b[0;34m,\u001b[0m \u001b[0max\u001b[0m \u001b[0;34m=\u001b[0m \u001b[0mplt\u001b[0m\u001b[0;34m.\u001b[0m\u001b[0msubplots\u001b[0m\u001b[0;34m(\u001b[0m\u001b[0;36m1\u001b[0m\u001b[0;34m,\u001b[0m \u001b[0;36m2\u001b[0m\u001b[0;34m,\u001b[0m \u001b[0mfigsize\u001b[0m\u001b[0;34m=\u001b[0m\u001b[0;34m(\u001b[0m\u001b[0;36m9\u001b[0m\u001b[0;34m,\u001b[0m \u001b[0;36m3\u001b[0m\u001b[0;34m)\u001b[0m\u001b[0;34m)\u001b[0m\u001b[0;34m\u001b[0m\u001b[0;34m\u001b[0m\u001b[0m\n\u001b[1;32m      8\u001b[0m \u001b[0;32mfor\u001b[0m \u001b[0midx\u001b[0m\u001b[0;34m,\u001b[0m \u001b[0mf\u001b[0m \u001b[0;32min\u001b[0m \u001b[0menumerate\u001b[0m\u001b[0;34m(\u001b[0m\u001b[0mfile_names\u001b[0m\u001b[0;34m)\u001b[0m\u001b[0;34m:\u001b[0m\u001b[0;34m\u001b[0m\u001b[0;34m\u001b[0m\u001b[0m\n\u001b[0;32m----> 9\u001b[0;31m     \u001b[0mpixels\u001b[0m \u001b[0;34m=\u001b[0m \u001b[0mimageio\u001b[0m\u001b[0;34m.\u001b[0m\u001b[0mimread\u001b[0m\u001b[0;34m(\u001b[0m\u001b[0mf\u001b[0m\u001b[0;34m)\u001b[0m\u001b[0;34m\u001b[0m\u001b[0;34m\u001b[0m\u001b[0m\n\u001b[0m\u001b[1;32m     10\u001b[0m     \u001b[0max\u001b[0m\u001b[0;34m[\u001b[0m\u001b[0midx\u001b[0m\u001b[0;34m]\u001b[0m\u001b[0;34m.\u001b[0m\u001b[0mimshow\u001b[0m\u001b[0;34m(\u001b[0m\u001b[0mpixels\u001b[0m\u001b[0;34m)\u001b[0m\u001b[0;34m\u001b[0m\u001b[0;34m\u001b[0m\u001b[0m\n\u001b[1;32m     11\u001b[0m \u001b[0mplt\u001b[0m\u001b[0;34m.\u001b[0m\u001b[0mshow\u001b[0m\u001b[0;34m(\u001b[0m\u001b[0;34m)\u001b[0m\u001b[0;34m\u001b[0m\u001b[0;34m\u001b[0m\u001b[0m\n",
      "\u001b[0;32m~/miniconda3/envs/clustering_lecture/lib/python3.7/site-packages/imageio/core/functions.py\u001b[0m in \u001b[0;36mimread\u001b[0;34m(uri, format, **kwargs)\u001b[0m\n\u001b[1;32m    219\u001b[0m \u001b[0;34m\u001b[0m\u001b[0m\n\u001b[1;32m    220\u001b[0m     \u001b[0;31m# Get reader and read first\u001b[0m\u001b[0;34m\u001b[0m\u001b[0;34m\u001b[0m\u001b[0;34m\u001b[0m\u001b[0m\n\u001b[0;32m--> 221\u001b[0;31m     \u001b[0mreader\u001b[0m \u001b[0;34m=\u001b[0m \u001b[0mread\u001b[0m\u001b[0;34m(\u001b[0m\u001b[0muri\u001b[0m\u001b[0;34m,\u001b[0m \u001b[0mformat\u001b[0m\u001b[0;34m,\u001b[0m \u001b[0;34m\"i\"\u001b[0m\u001b[0;34m,\u001b[0m \u001b[0;34m**\u001b[0m\u001b[0mkwargs\u001b[0m\u001b[0;34m)\u001b[0m\u001b[0;34m\u001b[0m\u001b[0;34m\u001b[0m\u001b[0m\n\u001b[0m\u001b[1;32m    222\u001b[0m     \u001b[0;32mwith\u001b[0m \u001b[0mreader\u001b[0m\u001b[0;34m:\u001b[0m\u001b[0;34m\u001b[0m\u001b[0;34m\u001b[0m\u001b[0m\n\u001b[1;32m    223\u001b[0m         \u001b[0;32mreturn\u001b[0m \u001b[0mreader\u001b[0m\u001b[0;34m.\u001b[0m\u001b[0mget_data\u001b[0m\u001b[0;34m(\u001b[0m\u001b[0;36m0\u001b[0m\u001b[0;34m)\u001b[0m\u001b[0;34m\u001b[0m\u001b[0;34m\u001b[0m\u001b[0m\n",
      "\u001b[0;32m~/miniconda3/envs/clustering_lecture/lib/python3.7/site-packages/imageio/core/functions.py\u001b[0m in \u001b[0;36mget_reader\u001b[0;34m(uri, format, mode, **kwargs)\u001b[0m\n\u001b[1;32m    128\u001b[0m \u001b[0;34m\u001b[0m\u001b[0m\n\u001b[1;32m    129\u001b[0m     \u001b[0;31m# Create request object\u001b[0m\u001b[0;34m\u001b[0m\u001b[0;34m\u001b[0m\u001b[0;34m\u001b[0m\u001b[0m\n\u001b[0;32m--> 130\u001b[0;31m     \u001b[0mrequest\u001b[0m \u001b[0;34m=\u001b[0m \u001b[0mRequest\u001b[0m\u001b[0;34m(\u001b[0m\u001b[0muri\u001b[0m\u001b[0;34m,\u001b[0m \u001b[0;34m\"r\"\u001b[0m \u001b[0;34m+\u001b[0m \u001b[0mmode\u001b[0m\u001b[0;34m,\u001b[0m \u001b[0;34m**\u001b[0m\u001b[0mkwargs\u001b[0m\u001b[0;34m)\u001b[0m\u001b[0;34m\u001b[0m\u001b[0;34m\u001b[0m\u001b[0m\n\u001b[0m\u001b[1;32m    131\u001b[0m \u001b[0;34m\u001b[0m\u001b[0m\n\u001b[1;32m    132\u001b[0m     \u001b[0;31m# Get format\u001b[0m\u001b[0;34m\u001b[0m\u001b[0;34m\u001b[0m\u001b[0;34m\u001b[0m\u001b[0m\n",
      "\u001b[0;32m~/miniconda3/envs/clustering_lecture/lib/python3.7/site-packages/imageio/core/request.py\u001b[0m in \u001b[0;36m__init__\u001b[0;34m(self, uri, mode, **kwargs)\u001b[0m\n\u001b[1;32m    124\u001b[0m \u001b[0;34m\u001b[0m\u001b[0m\n\u001b[1;32m    125\u001b[0m         \u001b[0;31m# Parse what was given\u001b[0m\u001b[0;34m\u001b[0m\u001b[0;34m\u001b[0m\u001b[0;34m\u001b[0m\u001b[0m\n\u001b[0;32m--> 126\u001b[0;31m         \u001b[0mself\u001b[0m\u001b[0;34m.\u001b[0m\u001b[0m_parse_uri\u001b[0m\u001b[0;34m(\u001b[0m\u001b[0muri\u001b[0m\u001b[0;34m)\u001b[0m\u001b[0;34m\u001b[0m\u001b[0;34m\u001b[0m\u001b[0m\n\u001b[0m\u001b[1;32m    127\u001b[0m \u001b[0;34m\u001b[0m\u001b[0m\n\u001b[1;32m    128\u001b[0m         \u001b[0;31m# Set extension\u001b[0m\u001b[0;34m\u001b[0m\u001b[0;34m\u001b[0m\u001b[0;34m\u001b[0m\u001b[0m\n",
      "\u001b[0;32m~/miniconda3/envs/clustering_lecture/lib/python3.7/site-packages/imageio/core/request.py\u001b[0m in \u001b[0;36m_parse_uri\u001b[0;34m(self, uri)\u001b[0m\n\u001b[1;32m    276\u001b[0m                 \u001b[0;31m# Reading: check that the file exists (but is allowed a dir)\u001b[0m\u001b[0;34m\u001b[0m\u001b[0;34m\u001b[0m\u001b[0;34m\u001b[0m\u001b[0m\n\u001b[1;32m    277\u001b[0m                 \u001b[0;32mif\u001b[0m \u001b[0;32mnot\u001b[0m \u001b[0mos\u001b[0m\u001b[0;34m.\u001b[0m\u001b[0mpath\u001b[0m\u001b[0;34m.\u001b[0m\u001b[0mexists\u001b[0m\u001b[0;34m(\u001b[0m\u001b[0mfn\u001b[0m\u001b[0;34m)\u001b[0m\u001b[0;34m:\u001b[0m\u001b[0;34m\u001b[0m\u001b[0;34m\u001b[0m\u001b[0m\n\u001b[0;32m--> 278\u001b[0;31m                     \u001b[0;32mraise\u001b[0m \u001b[0mFileNotFoundError\u001b[0m\u001b[0;34m(\u001b[0m\u001b[0;34m\"No such file: '%s'\"\u001b[0m \u001b[0;34m%\u001b[0m \u001b[0mfn\u001b[0m\u001b[0;34m)\u001b[0m\u001b[0;34m\u001b[0m\u001b[0;34m\u001b[0m\u001b[0m\n\u001b[0m\u001b[1;32m    279\u001b[0m             \u001b[0;32melse\u001b[0m\u001b[0;34m:\u001b[0m\u001b[0;34m\u001b[0m\u001b[0;34m\u001b[0m\u001b[0m\n\u001b[1;32m    280\u001b[0m                 \u001b[0;31m# Writing: check that the directory to write to does exist\u001b[0m\u001b[0;34m\u001b[0m\u001b[0;34m\u001b[0m\u001b[0;34m\u001b[0m\u001b[0m\n",
      "\u001b[0;31mFileNotFoundError\u001b[0m: No such file: '/Users/manuelciosici/Google Drive/ITU/clutering lecture/notebooks/for_sending/instructor_version/320px-Landscape_seen_from_Ellemandsbjerg.jpg'"
     ]
    }
   ],
   "source": [
    "import matplotlib.pyplot as plt\n",
    "import imageio\n",
    "file_names = [\"320px-Landscape_seen_from_Ellemandsbjerg.jpg\", \n",
    "              \"320px-Lego_Color_Bricks.jpg\"]\n",
    "# file_names = [\"80px-Lego_Color_Bricks.jpg\"]\n",
    "\n",
    "fig, ax = plt.subplots(1, 2, figsize=(9, 3))\n",
    "for idx, f in enumerate(file_names):\n",
    "    pixels = imageio.imread(f)\n",
    "    ax[idx].imshow(pixels)\n",
    "plt.show()"
   ]
  },
  {
   "cell_type": "markdown",
   "metadata": {
    "pycharm": {
     "name": "#%% md\n"
    }
   },
   "source": [
    "We can cluster pixels based on their color. We can then replace each pixel's \n",
    "color with the color of the centroid of the cluster it belongs to. For example,\n",
    "if a pixel p = [125, 125, 125] is allocated to a cluster whose center is \n",
    "c = [150, 145, 145], then we will replace p with the value of c."
   ]
  },
  {
   "cell_type": "markdown",
   "metadata": {
    "pycharm": {
     "name": "#%% md\n"
    }
   },
   "source": [
    "## Example\n",
    "\n",
    "Let's assume we have an image 20 pixels. It can look like this:"
   ]
  },
  {
   "cell_type": "code",
   "execution_count": null,
   "metadata": {
    "pycharm": {
     "is_executing": false,
     "name": "#%%\n"
    }
   },
   "outputs": [],
   "source": [
    "num_pixels = 20\n",
    "pixel_data = np.random.rand(num_pixels,3) * 255\n",
    "pixel_data = pixel_data.astype(np.uint8)\n",
    "print(pixel_data)\n",
    "\n",
    "print(\"Size of each element: {} bytes\".format(pixel_data.itemsize))\n",
    "size_of_data = pixel_data.size * pixel_data.itemsize\n",
    "print(\"Size of data: {} bytes\".format(size_of_data))"
   ]
  },
  {
   "cell_type": "markdown",
   "metadata": {
    "pycharm": {
     "is_executing": true,
     "name": "#%% md\n"
    }
   },
   "source": [
    "If we were to represent the data using the following 3 cluster centers:"
   ]
  },
  {
   "cell_type": "code",
   "execution_count": null,
   "metadata": {
    "pycharm": {
     "is_executing": false,
     "name": "#%% \n"
    }
   },
   "outputs": [],
   "source": [
    "num_clusters = 3\n",
    "clusters = np.random.rand(num_clusters,3) * 255\n",
    "clusters = clusters.astype(np.uint8)\n",
    "print(clusters)"
   ]
  },
  {
   "cell_type": "markdown",
   "metadata": {},
   "source": [
    "And cluster assignments:"
   ]
  },
  {
   "cell_type": "code",
   "execution_count": null,
   "metadata": {
    "pycharm": {
     "is_executing": false,
     "name": "#%%\n"
    }
   },
   "outputs": [],
   "source": [
    "import random\n",
    "assignments = np.array([random.randint(0,num_clusters-1) for _ in range(pixel_data.shape[0])])\n",
    "assignments = assignments.astype(np.uint8)\n",
    "print(assignments)"
   ]
  },
  {
   "cell_type": "markdown",
   "metadata": {},
   "source": [
    "We could use a lot less data. More specifically:"
   ]
  },
  {
   "cell_type": "code",
   "execution_count": null,
   "metadata": {
    "pycharm": {
     "is_executing": false,
     "name": "#%%\n"
    }
   },
   "outputs": [],
   "source": [
    "def compute_compression(data:np.ndarray, clusters:np.ndarray)->Tuple[float, float]:\n",
    "    size_of_data = data.size * data.itemsize\n",
    "    size_of_compressed_data = data.shape[0] * clusters.itemsize\n",
    "    size_of_compressed_data += clusters.size * clusters.itemsize\n",
    "    c = 100.0 - size_of_compressed_data*100 / size_of_data\n",
    "    return size_of_compressed_data, c"
   ]
  },
  {
   "cell_type": "code",
   "execution_count": null,
   "metadata": {
    "pycharm": {
     "is_executing": false,
     "name": "#%%\n"
    }
   },
   "outputs": [],
   "source": [
    "size_of_compressed_data, compression_rate = compute_compression(pixel_data, clusters)\n",
    "print(\"Size of compressed data: {} bytes\".format(size_of_compressed_data))\n",
    "print(\"Compression: {:.2f}%\".format(compression_rate))"
   ]
  },
  {
   "cell_type": "markdown",
   "metadata": {
    "pycharm": {
     "name": "#%% md\n"
    }
   },
   "source": [
    "Try playing with the number of pixels and number of clusters and see how the compression rate changes.\n",
    "\n",
    "\n"
   ]
  },
  {
   "cell_type": "markdown",
   "metadata": {
    "pycharm": {
     "name": "#%% md\n"
    }
   },
   "source": [
    "## Implementing Hierarchical Agglomerative Clustering (HAC)\n",
    "\n",
    "You will now implement Hierarchical Agglomerative Clustering (HAC) for pixel \n",
    "colors. Below is a function signature for the method. \n",
    "\n",
    "It should take as input a NumPy array of pixel values like pixel_data above and\n",
    "a list of cluster sizes for which to report cluster assignment for each point.\n",
    "\n",
    "For example, if clusters_to_report = [1, 3, 10], then the return value from \n",
    "hierarchical_clustering should be a dictionary containing clustering objects\n",
    "for each of the number of clusters in the list, similar to this:\n",
    "\n",
    "```python\n",
    "clusters = {\n",
    "    1: [0, 0, 0, ..., 0],\n",
    "    3: [0, 2, 1, ..., 2],\n",
    "    10: [1, 2, 8, ..., 7],\n",
    "    }\n",
    "```"
   ]
  },
  {
   "cell_type": "code",
   "execution_count": null,
   "metadata": {
    "pycharm": {
     "is_executing": false,
     "name": "#%% \n"
    }
   },
   "outputs": [],
   "source": [
    "@dataclass(frozen=True)\n",
    "class Clustering:\n",
    "    centers: List[np.ndarray]\n",
    "    assignments: List[int]\n",
    "    "
   ]
  },
  {
   "cell_type": "code",
   "execution_count": null,
   "metadata": {
    "pycharm": {
     "is_executing": false,
     "name": "#%% \n"
    }
   },
   "outputs": [],
   "source": [
    "def hierarchical_clustering(pixel_data: np.ndarray, clusters_to_report: Set[int]) -> Dict[int, Clustering]:\n",
    "#     We start by creating a sample of points to cluster.\n",
    "#   You might want to reduce the sample size during development of this function. 151 might be a good value\n",
    "    sample_size = 200\n",
    "    X = X.reshape((X.shape[0]*X.shape[1],3))\n",
    "    sample_ids = np.random.choice(list(range(X.shape[0])), 300)\n",
    "    X_sample = np.array([X[e] for e in sample_ids])\n",
    "    \n",
    "    # Your Hierarchical Agglomerative Clustering code goes here\n",
    "\n",
    "    return {}"
   ]
  },
  {
   "cell_type": "markdown",
   "metadata": {
    "pycharm": {
     "name": "#%% md\n"
    }
   },
   "source": [
    "We will use the clusterings at different granularities to compress the two images.\n",
    "\n",
    "Below we define a function that generates random cluster assignments. We use \n",
    "it to give you an idea of how the clustering works."
   ]
  },
  {
   "cell_type": "code",
   "execution_count": null,
   "metadata": {
    "pycharm": {
     "is_executing": false,
     "name": "#%% \n"
    }
   },
   "outputs": [],
   "source": [
    "def random_clustering(pixel_data: np.ndarray, clusters_to_report: Set[int]) -> Dict[int, Clustering]:\n",
    "    pixel_data = pixel_data.reshape((pixel_data.shape[0]*pixel_data.shape[1],3))\n",
    "    v = {}\n",
    "    num_pixels = pixel_data.shape[0]\n",
    "    for k in clusters_to_report:\n",
    "        assignments = [random.randint(0,k-1) for _ in range(num_pixels)]\n",
    "        centers = np.random.rand(k,3) * 255\n",
    "        centers = centers.astype(np.uint8)\n",
    "        v[k] = Clustering(centers=centers, assignments=assignments)\n",
    "    return v\n"
   ]
  },
  {
   "cell_type": "code",
   "execution_count": null,
   "metadata": {
    "pycharm": {
     "is_executing": false,
     "name": "#%%\n"
    }
   },
   "outputs": [],
   "source": [
    "def replace_pixels(pixel_data:np.ndarray, clustering:Clustering) -> np.ndarray :\n",
    "    new_pixels = np.array(pixel_data, copy=True)\n",
    "    new_pixels = new_pixels.reshape((new_pixels.shape[0]*new_pixels.shape[1],3))\n",
    "    for pixel_id in range(new_pixels.shape[0]):\n",
    "        cluster_id = clustering.assignments[pixel_id]\n",
    "        cluster = clustering.centers[cluster_id]\n",
    "        new_pixels[pixel_id] = np.array(cluster, copy=True)\n",
    "    new_pixels = new_pixels.reshape((pixel_data.shape[0],pixel_data.shape[1],3))\n",
    "    return new_pixels"
   ]
  },
  {
   "cell_type": "code",
   "execution_count": null,
   "metadata": {},
   "outputs": [],
   "source": [
    "def map_pixels_to_closest_centroid(pixel_data:np.ndarray, centers:np.ndarray)->List[int]:\n",
    "    def distance (a, b):\n",
    "        return np.linalg.norm(a - b)\n",
    "    assignments = []\n",
    "    for x in range(pixel_data.shape[0]):\n",
    "        for y in range(pixel_data.shape[1]):\n",
    "            pixel = pixel_data[x][y]\n",
    "            min_d = float(\"inf\")\n",
    "            best_center_id = 0\n",
    "            for c_id, c in enumerate(centers):\n",
    "                d = distance(pixel, c)\n",
    "                if d < min_d:\n",
    "                    min_d = d\n",
    "                    best_center_id = c_id\n",
    "            assignments.append(best_center_id)\n",
    "    return assignments"
   ]
  },
  {
   "cell_type": "code",
   "execution_count": null,
   "metadata": {
    "pycharm": {
     "is_executing": false,
     "name": "#%%\n"
    }
   },
   "outputs": [],
   "source": [
    "def plot_compression(num_clusters, clusterer):\n",
    "    num_clusters = sorted(num_clusters)\n",
    "    fig, ax = plt.subplots(len(num_clusters)+1, 2, figsize=(9, 14))\n",
    "    for idx, f in enumerate(file_names):\n",
    "        pixels = imageio.imread(f)\n",
    "        ax[0,idx].imshow(pixels)\n",
    "        ax[0,idx].set_title(\"Original image\")\n",
    "        print(\"Running hierarchical clustering for \" + f)\n",
    "        cluster_assignments = clusterer(pixels, num_clusters)\n",
    "        if len(cluster_assignments) > 0:\n",
    "            for i, k in enumerate(num_clusters):\n",
    "                clustering = cluster_assignments[k]\n",
    "                new_pixels = replace_pixels(pixels, clustering)\n",
    "                ax[i+1,idx].imshow(new_pixels)\n",
    "                ax[i+1,idx].set_title(\"k={}\".format(k))\n",
    "                print(\"Finished plotting for {} and {}\".format(f, k))\n",
    "    plt.show()"
   ]
  },
  {
   "cell_type": "markdown",
   "metadata": {
    "pycharm": {
     "name": "#%% md\n"
    }
   },
   "source": [
    "The following will displayed the images using the random_clustering from above. The images should be just noise since we're not actually clustering anything."
   ]
  },
  {
   "cell_type": "code",
   "execution_count": null,
   "metadata": {
    "pycharm": {
     "is_executing": false,
     "name": "#%%\n"
    }
   },
   "outputs": [],
   "source": [
    "num_clusters = set([15, 50, 100])\n",
    "plot_compression(num_clusters, random_clustering)"
   ]
  },
  {
   "cell_type": "markdown",
   "metadata": {},
   "source": [
    "The following will render the images using your hierarchical_clustering function.\n",
    "\n",
    "Until you implement hierarchical_clustering, only the original images will be displayed."
   ]
  },
  {
   "cell_type": "code",
   "execution_count": null,
   "metadata": {
    "pycharm": {
     "is_executing": false
    }
   },
   "outputs": [],
   "source": [
    "from hac import hierarchical_clustering\n"
   ]
  },
  {
   "cell_type": "code",
   "execution_count": null,
   "metadata": {
    "pycharm": {
     "is_executing": false,
     "name": "#%%\n"
    }
   },
   "outputs": [],
   "source": [
    "plot_compression(num_clusters, hierarchical_clustering)"
   ]
  },
  {
   "cell_type": "code",
   "execution_count": null,
   "metadata": {
    "pycharm": {
     "is_executing": false,
     "name": "#%%\n"
    }
   },
   "outputs": [],
   "source": [
    "\n"
   ]
  }
 ],
 "metadata": {
  "kernelspec": {
   "display_name": "Python (clustering_lecture)",
   "language": "python",
   "name": "clustering_lecture"
  },
  "language_info": {
   "codemirror_mode": {
    "name": "ipython",
    "version": 3
   },
   "file_extension": ".py",
   "mimetype": "text/x-python",
   "name": "python",
   "nbconvert_exporter": "python",
   "pygments_lexer": "ipython3",
   "version": "3.7.4"
  },
  "pycharm": {
   "stem_cell": {
    "cell_type": "raw",
    "metadata": {
     "collapsed": false
    },
    "source": []
   }
  }
 },
 "nbformat": 4,
 "nbformat_minor": 1
}
